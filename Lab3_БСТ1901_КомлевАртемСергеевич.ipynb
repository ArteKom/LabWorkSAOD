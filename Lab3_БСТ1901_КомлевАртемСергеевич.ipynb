{
 "cells": [
  {
   "cell_type": "markdown",
   "metadata": {},
   "source": [
    "# Лабораторная работа №3. Методы поиска подстроки в строке.\n",
    "## Выполнил студент группы БСТ1904 Комлев А.С.\n",
    "## Задание 1"
   ]
  },
  {
   "cell_type": "markdown",
   "metadata": {},
   "source": [
    "## Алгоритм Кнута-Морриса-Пратта"
   ]
  },
  {
   "cell_type": "code",
   "execution_count": 1,
   "metadata": {},
   "outputs": [],
   "source": [
    "import time\n",
    "import random\n",
    "from tabulate import tabulate\n"
   ]
  },
  {
   "cell_type": "code",
   "execution_count": 2,
   "metadata": {},
   "outputs": [],
   "source": [
    "def prefix(s):\n",
    "    p = [0] * len(s)\n",
    "    for i in range(1, len(s)):\n",
    "        k = p[i - 1]\n",
    "        while k > 0 and s[k] != s[i]:\n",
    "            k = p[k - 1]\n",
    "        if s[k] == s[i]:\n",
    "            k += 1\n",
    "        p[i] = k\n",
    "    return p"
   ]
  },
  {
   "cell_type": "code",
   "execution_count": 3,
   "metadata": {},
   "outputs": [],
   "source": [
    "def KMP(s, w):\n",
    "    A = []\n",
    "    k = 0\n",
    "        \n",
    "    p = prefix(s)\n",
    "\n",
    "    for i in range(len(s)):\n",
    "        while k > 0 and s[i] != w[k]:\n",
    "            k = p[k-1]\n",
    "        if s[i] == w[k]:\n",
    "            k += 1\n",
    "        if k == len(w):\n",
    "            A.append((i - len(w) + 1, i+1))\n",
    "            k = p[k-1]\n",
    "\n",
    "    return A"
   ]
  },
  {
   "cell_type": "code",
   "execution_count": 4,
   "metadata": {},
   "outputs": [
    {
     "name": "stdout",
     "output_type": "stream",
     "text": [
      "[(0, 5), (3, 8), (8, 13), (11, 16)]\n"
     ]
    }
   ],
   "source": [
    "print(KMP(\"aabaabaaaabaabaaab\", \"aabaa\"))"
   ]
  },
  {
   "cell_type": "markdown",
   "metadata": {},
   "source": [
    "## Упрощенный Бойера-Мура"
   ]
  },
  {
   "cell_type": "code",
   "execution_count": 5,
   "metadata": {},
   "outputs": [],
   "source": [
    "def preprocess(w):\n",
    "    T = [len(w)]*256\n",
    "    for i in range(len(w) - 1):\n",
    "        T[ord(w[i])] = len(w) - 1 - i\n",
    "    return T"
   ]
  },
  {
   "cell_type": "code",
   "execution_count": 6,
   "metadata": {},
   "outputs": [],
   "source": [
    "def BM(s, w):\n",
    "    A = []\n",
    "    T = preprocess(w)\n",
    "    skip = 0\n",
    "    while len(s) - skip >= len(w):\n",
    "        if s[skip:skip + len(w)] == w:\n",
    "            A.append((skip, skip + len(w)))\n",
    "        skip += T[ord(s[skip + len(w) - 1])]\n",
    "    return A"
   ]
  },
  {
   "cell_type": "code",
   "execution_count": 7,
   "metadata": {},
   "outputs": [
    {
     "name": "stdout",
     "output_type": "stream",
     "text": [
      "[(23, 31)]\n"
     ]
    }
   ],
   "source": [
    "print( BM(\"Hoola-Hoola girls like Hooligans\", \"Hooligan\"))"
   ]
  },
  {
   "cell_type": "markdown",
   "metadata": {},
   "source": [
    "## Встроенный поиск"
   ]
  },
  {
   "cell_type": "code",
   "execution_count": 8,
   "metadata": {},
   "outputs": [],
   "source": [
    "def builtin_search(s, w):\n",
    "    A = []\n",
    "    index = s.find(w)\n",
    "    while index != -1:\n",
    "        A.append((index, index + len(w)))\n",
    "        index = s.find(w, index + 1)\n",
    "    return A"
   ]
  },
  {
   "cell_type": "markdown",
   "metadata": {},
   "source": [
    "## Предусмотреть возможность существования пробела. Реализовать возможность выбора опции чувствительности или нечувствительности к регистру."
   ]
  },
  {
   "cell_type": "code",
   "execution_count": 9,
   "metadata": {},
   "outputs": [],
   "source": [
    "def search(s, w, fn=KMP, ignore_case=True, ignore_space=False):\n",
    "    \"\"\" Поиск подстроки с возможностью игнорирования пробелов и регистра \"\"\"\n",
    "    _s = s\n",
    "    _w = w\n",
    "    if ignore_case:\n",
    "        _s = _s.lower()\n",
    "        _w = _w.lower()\n",
    "    \n",
    "    if ignore_space:\n",
    "        _s = _s.replace(' ', '')\n",
    "        _w = _w.replace(' ', '')\n",
    "\n",
    "    A = fn(_s, _w)\n",
    "\n",
    "    if ignore_space:\n",
    "        nonspace = 0\n",
    "        kmp_without_space = 0\n",
    "        index = 0\n",
    "        while kmp_without_space < len(A) and index < len(s):\n",
    "            if A[kmp_without_space][0] == nonspace:\n",
    "                index_with_space_offsets = index\n",
    "                chars_count = 0\n",
    "                while chars_count < len(_w) and index_with_space_offsets < len(s):\n",
    "                    if s[index_with_space_offsets] != ' ':\n",
    "                        chars_count += 1\n",
    "                    index_with_space_offsets += 1\n",
    "                A[kmp_without_space] = (index, index_with_space_offsets)\n",
    "                kmp_without_space += 1\n",
    "            if s[index] != ' ': nonspace += 1\n",
    "            index += 1\n",
    "    \n",
    "    return A"
   ]
  },
  {
   "cell_type": "markdown",
   "metadata": {},
   "source": [
    "## Сравнение алгоритмов"
   ]
  },
  {
   "cell_type": "code",
   "execution_count": 10,
   "metadata": {
    "tags": []
   },
   "outputs": [
    {
     "data": {
      "text/html": [
       "<table>\n",
       "<thead>\n",
       "<tr><th style=\"text-align: right;\">  </th><th>Алгоритм      </th><th style=\"text-align: right;\">    Время</th></tr>\n",
       "</thead>\n",
       "<tbody>\n",
       "<tr><td style=\"text-align: right;\"> 0</td><td>builtin_search</td><td style=\"text-align: right;\">5.24e-06 </td></tr>\n",
       "<tr><td style=\"text-align: right;\"> 1</td><td>KMP           </td><td style=\"text-align: right;\">3.191e-05</td></tr>\n",
       "<tr><td style=\"text-align: right;\"> 2</td><td>BM            </td><td style=\"text-align: right;\">3.484e-05</td></tr>\n",
       "</tbody>\n",
       "</table>"
      ],
      "text/plain": [
       "'<table>\\n<thead>\\n<tr><th style=\"text-align: right;\">  </th><th>Алгоритм      </th><th style=\"text-align: right;\">    Время</th></tr>\\n</thead>\\n<tbody>\\n<tr><td style=\"text-align: right;\"> 0</td><td>builtin_search</td><td style=\"text-align: right;\">5.24e-06 </td></tr>\\n<tr><td style=\"text-align: right;\"> 1</td><td>KMP           </td><td style=\"text-align: right;\">3.191e-05</td></tr>\\n<tr><td style=\"text-align: right;\"> 2</td><td>BM            </td><td style=\"text-align: right;\">3.484e-05</td></tr>\\n</tbody>\\n</table>'"
      ]
     },
     "execution_count": 10,
     "metadata": {},
     "output_type": "execute_result"
    }
   ],
   "source": [
    "\n",
    "bench_count = 10\n",
    "\n",
    "time_consumed = {}\n",
    "for alg in (KMP, BM, builtin_search):\n",
    "    time_start = time.perf_counter()\n",
    "    for i in range(bench_count):\n",
    "        alg('ABCABCABCDABDABDABC', 'ABC')\n",
    "        alg('ADBCHDBDBAHBCBACBDBEHABBBVHABBBVHABDAVHHCBABCB', 'AB')\n",
    "    time_end = time.perf_counter()\n",
    "    time_consumed[alg.__name__] = (time_end - time_start) / bench_count\n",
    "\n",
    "sorted_time = sorted(time_consumed.items(), key=lambda kv: kv[1])\n",
    "tabulate(sorted_time, headers=['Алгоритм','Время'], tablefmt='html', showindex=\"always\")"
   ]
  },
  {
   "cell_type": "markdown",
   "metadata": {},
   "source": [
    "## Задание 2 «Пятнашки»"
   ]
  },
  {
   "cell_type": "code",
   "execution_count": 11,
   "metadata": {},
   "outputs": [
    {
     "name": "stdout",
     "output_type": "stream",
     "text": [
      "Первоначальная позиция: \n",
      "   1  2  3  4\n",
      "  5  6  7  8\n",
      " 13  9 11 12\n",
      " 10 14 15  0\n",
      "\n",
      "Оптимальный путь к решению:\n",
      " [15, 14, 10, 13, 9, 10, 14, 15]\n"
     ]
    }
   ],
   "source": [
    "from queue import PriorityQueue\n",
    "\n",
    "N = 4\n",
    "\n",
    "# Движение пятнашек\n",
    "def moves(position):\n",
    "    blank = position.index(0)\n",
    "    i, j = divmod(blank, N)\n",
    "    offsets = []\n",
    "    if i > 0: offsets.append(-N)     # вниз\n",
    "    if i < N - 1: offsets.append(N)  # вверх\n",
    "    if j > 0: offsets.append(-1)     # вправо\n",
    "    if j < N - 1: offsets.append(1)  # влево\n",
    "    for offset in offsets:\n",
    "        swap = blank + offset\n",
    "        yield tuple(position[swap] if x==blank else position[blank] if x==swap else position[x] for x in range(N*N))\n",
    "\n",
    "# Функция для определения есть решение или нет\n",
    "def parity(permutation):\n",
    "    seen, cycles = set(), 0\n",
    "    for i in permutation:\n",
    "        if i not in seen:\n",
    "            cycles += 1\n",
    "            while i not in seen:\n",
    "                seen.add(i)\n",
    "                i = permutation[i]\n",
    "    return (cycles + len(permutation)) % 2\n",
    "\n",
    "# Класс позиции\n",
    "class Position:\n",
    "    # Конструктор класса, который принимает позицию и начальную дистанцию\n",
    "    def __init__(self, position, start_distance):\n",
    "        self.position = position\n",
    "        self.start_distance = start_distance\n",
    "\n",
    "    # Метод, который срабатывает при сравнении (<) объектта с другим объектом\n",
    "    def __lt__(self, other):\n",
    "        return self.start_distance < other.start_distance\n",
    "\n",
    "    # Метод, который срабатывает при использовании объекта как строки\n",
    "    def __str__(self):\n",
    "        return '\\n'.join((N*'{:3}').format(*[i%(N*N) for i in self.position[i:]]) for i in range(0, N*N, N))\n",
    "\n",
    "# Разгадка\n",
    "SOLVED = (1, 2, 3, 4, 5, 6, 7, 8, 9, 10, 11, 12, 13, 14, 15, 0)\n",
    "# Загадка\n",
    "start = [1, 2, 3, 4, 5, 6, 7, 8, 13, 9, 11, 12, 10, 14, 15, 0]\n",
    "\n",
    "# Смотрим, можно ли в данной расстановке найти решение\n",
    "# Если нет, то сообщаем об этом\n",
    "if parity(start) == 0:\n",
    "    print('Нерешаемо')\n",
    "# Иначе ищем этот путь\n",
    "else:\n",
    "    # Кортеж загадки\n",
    "    start = tuple(start)\n",
    "    \n",
    "    # Первоначальная позиция\n",
    "    p = Position(start, 0)\n",
    "    print(\"Первоначальная позиция: \" + \"\\n\", p)\n",
    "    print()\n",
    "    \n",
    "    # 1) Кладем в очередь с приоритетом первоначальную позицию\n",
    "    candidates = PriorityQueue()\n",
    "    candidates.put(p)\n",
    "\n",
    "    # Кортеж посещенных позиций\n",
    "    visited = set([p])\n",
    "\n",
    "    # Откуда пришли\n",
    "    came_from = {p.position: None}\n",
    "    \n",
    "    # Пока решение не найдено\n",
    "    while p.position != SOLVED:\n",
    "        # 2) Извлекаем из очереди позицию с наименьшим приоритетом\n",
    "        p = candidates.get()\n",
    "        # 3) Кладем в очередь все соседние позиции\n",
    "        # 4) Повторяем пункты 2-4 пока в пункте 2 не вытащим конечную позицию\n",
    "        for k in moves(p.position):\n",
    "            if k not in visited:\n",
    "                # В candifates хранятся всевозможные позиции\n",
    "                candidates.put(Position(k, p.start_distance + 1))\n",
    "                came_from[k] = p\n",
    "                visited.add(k)\n",
    "\n",
    "    # path - последовательное решение головоловки (путь)\n",
    "    path = []\n",
    "    # Сохраняем конечную позицию\n",
    "    prev = p\n",
    "    # Идем в обратном порядке и запоминаем очередность хода в path\n",
    "    while p.position != start:\n",
    "        # Запоминаем откуда ход\n",
    "        p = came_from[p.position]\n",
    "        number = p.position[prev.position.index(0)]\n",
    "        path.append(number)\n",
    "        prev = p\n",
    "    path.reverse()\n",
    "\n",
    "    print(\"Оптимальный путь к решению:\" + \"\\n\", path)"
   ]
  },
  {
   "cell_type": "markdown",
   "metadata": {},
   "source": [
    "# Вывод\n",
    "\n",
    "В ходе выполнения данной лабораторной работы были изучены алгоритмы поиска таккие, как Алгорим Алгоритм Кнута-Морриса-Пратта, Упрощенный Бойера-Мура, Встроенный поиск Python и предусмотрена возможность существования пробела. Также была решена задача Пятнашки."
   ]
  }
 ],
 "metadata": {
  "kernelspec": {
   "display_name": "Python 3",
   "language": "python",
   "name": "python3"
  },
  "language_info": {
   "codemirror_mode": {
    "name": "ipython",
    "version": 3
   },
   "file_extension": ".py",
   "mimetype": "text/x-python",
   "name": "python",
   "nbconvert_exporter": "python",
   "pygments_lexer": "ipython3",
   "version": "3.9.1"
  }
 },
 "nbformat": 4,
 "nbformat_minor": 2
}
